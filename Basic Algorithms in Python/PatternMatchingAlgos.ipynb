{
 "cells": [
  {
   "cell_type": "code",
   "execution_count": 1,
   "id": "060d46c9-8ad9-46e8-b83d-da87a48029e7",
   "metadata": {},
   "outputs": [],
   "source": [
    "# Basic naive algorithm O(mn)\n",
    "def SearchPatternByNaive(text, pattern):\n",
    "    txtlen = len(text)\n",
    "    patlen = len(pattern)\n",
    "    \n",
    "    if txtlen == 0 or patlen == 0 or txtlen < patlen:\n",
    "        return -1\n",
    "    \n",
    "    for i in range(txtlen - patlen + 1):\n",
    "        match = True\n",
    "        for j in range(patlen):\n",
    "            if text[i + j] != pattern[j]:\n",
    "                match = False\n",
    "                break\n",
    "        if match:\n",
    "            return i;\n",
    "    return -1"
   ]
  },
  {
   "cell_type": "code",
   "execution_count": 2,
   "id": "ffaeb322-e533-4bd2-9f9c-7586f5f129b2",
   "metadata": {},
   "outputs": [],
   "source": [
    "# Longest Prefix Suffix\n",
    "def GetLpsTable(pattern, patlen): \n",
    "    i = 1\n",
    "    j = 0\n",
    "    lpstable = [0]*patlen \n",
    "    while i < patlen:\n",
    "        if pattern[i] == pattern[j]:\n",
    "            j += 1\n",
    "            lpstable[i] = j\n",
    "            i += 1\n",
    "        else:\n",
    "            if j != 0: \n",
    "                j = lpstable[j - 1]\n",
    "            else: \n",
    "                i += 1\n",
    "    return lpstable\n",
    "\n",
    "# Knuth Morris Patternson KMP algorithm \n",
    "# Avg, Worst O(m+n)\n",
    "def SearchPatternByKMP(text, pattern):\n",
    "    txtlen = len(text)\n",
    "    patlen = len(pattern)\n",
    "    \n",
    "    if txtlen == 0 or patlen == 0 or txtlen < patlen:\n",
    "        return -1\n",
    "    \n",
    "    lpstable = GetLpsTable(pattern, patlen)\n",
    "    \n",
    "    i = j = 0\n",
    "    while i < txtlen:\n",
    "        if text[i] == pattern[j]:\n",
    "            i += 1\n",
    "            j += 1\n",
    "        \n",
    "        if j == patlen: \n",
    "            return i - j\n",
    "        elif i < txtlen and text[i] != pattern[j]:\n",
    "            if j != 0: \n",
    "                j = lpstable[j - 1]  \n",
    "            else: \n",
    "                i += 1               \n",
    "    return -1"
   ]
  },
  {
   "cell_type": "code",
   "execution_count": 3,
   "id": "4ff2de2b-5542-4a80-b558-c7a54019ac95",
   "metadata": {},
   "outputs": [],
   "source": [
    "# Pattern matching using hash (Rabin Karp) \n",
    "# Avg O(m + n), Worst O(mn) - weak hash func\n",
    "def SearchPatternByHash(text, pattern):\n",
    "    SYMBOL_BASE = 128 # ascii symbols\n",
    "    txtlen = len(text)\n",
    "    patlen = len(pattern)\n",
    "    \n",
    "    if txtlen == 0 or patlen == 0 or txtlen < patlen:\n",
    "        return -1\n",
    "        \n",
    "    pathash = 0\n",
    "    rolhash = 0\n",
    "    match = True\n",
    "    for i in range(patlen):\n",
    "        pathash += ord(pattern[i]) * pow(SYMBOL_BASE, patlen - i - 1)\n",
    "        rolhash += ord(text[i]) * pow(SYMBOL_BASE, patlen - i - 1)\n",
    "        if text[i] != pattern[i]:\n",
    "            match = False\n",
    "    \n",
    "    if match: \n",
    "        return 0\n",
    "    \n",
    "    for i in range(txtlen - patlen):       \n",
    "        rolhash -= ord(text[i]) * pow(SYMBOL_BASE, patlen - 1)\n",
    "        rolhash = (rolhash * SYMBOL_BASE) + ord(text[i + patlen])            \n",
    "        if rolhash == pathash:\n",
    "            match = True\n",
    "            for j in range(patlen):\n",
    "                if text[i + 1 + j] != pattern[j]:\n",
    "                    match = False\n",
    "                    break\n",
    "            if match: \n",
    "                return i + 1\n",
    "    return -1"
   ]
  },
  {
   "cell_type": "code",
   "execution_count": 4,
   "id": "dfad9e97-f3d7-41dd-b382-b9e6615bfd1a",
   "metadata": {},
   "outputs": [
    {
     "name": "stdout",
     "output_type": "stream",
     "text": [
      "SearchPatternByNaive: 10\n",
      "SearchPatternByKMP: 10\n",
      "SearchPatternByHash: 10\n"
     ]
    }
   ],
   "source": [
    "text = 'ababcabcabababd'\n",
    "pattern = 'ababd'\n",
    "idx1 = SearchPatternByNaive(text, pattern)\n",
    "print('SearchPatternByNaive:', idx1)\n",
    "\n",
    "idx2 = SearchPatternByKMP(text, pattern)\n",
    "print('SearchPatternByKMP:', idx2)\n",
    "\n",
    "idx3 = SearchPatternByHash(text, pattern)\n",
    "print('SearchPatternByHash:', idx3)\n",
    "\n",
    "if idx1 != idx2 or idx2 != idx3:\n",
    "    print('Pattern matching discrepancy:', idx1, idx2, idx3)"
   ]
  }
 ],
 "metadata": {
  "kernelspec": {
   "display_name": "Python 3 (ipykernel)",
   "language": "python",
   "name": "python3"
  },
  "language_info": {
   "codemirror_mode": {
    "name": "ipython",
    "version": 3
   },
   "file_extension": ".py",
   "mimetype": "text/x-python",
   "name": "python",
   "nbconvert_exporter": "python",
   "pygments_lexer": "ipython3",
   "version": "3.9.2"
  }
 },
 "nbformat": 4,
 "nbformat_minor": 5
}
