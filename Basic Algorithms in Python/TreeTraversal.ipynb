{
 "cells": [
  {
   "cell_type": "code",
   "execution_count": 1,
   "id": "9dfbc0c6-9960-4ff1-b72f-249d4cf5e5cb",
   "metadata": {},
   "outputs": [
    {
     "name": "stdout",
     "output_type": "stream",
     "text": [
      "Inorder  : [10, 14, 19, 27, 31, 35, 42]\n",
      "PreOrder : [27, 14, 10, 19, 35, 31, 42]\n",
      "PostOrder: [10, 19, 14, 31, 42, 35, 27]\n"
     ]
    }
   ],
   "source": [
    "import sys\n",
    "\n",
    "class Node:\n",
    "    def __init__(self, data, left=None, right=None):\n",
    "        self.data = data\n",
    "        self.left = left\n",
    "        self.right = right      \n",
    "    \n",
    "    # Insert Node\n",
    "    def insert(self, data):\n",
    "        if self.data:\n",
    "            if data < self.data:\n",
    "                if self.left:\n",
    "                    self.left.insert(data)\n",
    "                else:\n",
    "                    self.left = Node(data)\n",
    "            elif data > self.data:\n",
    "                if self.right:\n",
    "                    self.right.insert(data)\n",
    "                else:\n",
    "                    self.right = Node(data)\n",
    "        else:\n",
    "            self.data = data\n",
    "\n",
    "    # Left -> Root -> Right\n",
    "    def inOrderTraversal(self, root):\n",
    "        result = []\n",
    "        if root:\n",
    "            result = self.inOrderTraversal(root.left)\n",
    "            result.append(root.data)\n",
    "            result += self.inOrderTraversal(root.right)\n",
    "        return result\n",
    "    \n",
    "    # Root -> Left ->  Right\n",
    "    def preOrderTraversal(self, root):\n",
    "        result = []\n",
    "        if root:\n",
    "            result.append(root.data)\n",
    "            result += self.preOrderTraversal(root.left)            \n",
    "            result += self.preOrderTraversal(root.right)\n",
    "        return result\n",
    "    \n",
    "    # Left -> Right -> Root\n",
    "    def postOrderTraversal(self, root):\n",
    "        result = []\n",
    "        if root:\n",
    "            result = self.postOrderTraversal(root.left)            \n",
    "            result += self.postOrderTraversal(root.right)\n",
    "            result.append(root.data)\n",
    "        return result\n",
    "\n",
    "root = Node(27)\n",
    "root.insert(14)\n",
    "root.insert(35)\n",
    "root.insert(10)\n",
    "root.insert(19)\n",
    "root.insert(31)\n",
    "root.insert(42)\n",
    "\n",
    "print('Inorder  :', root.inOrderTraversal(root))\n",
    "print('PreOrder :', root.preOrderTraversal(root))\n",
    "print('PostOrder:', root.postOrderTraversal(root))"
   ]
  },
  {
   "cell_type": "code",
   "execution_count": 2,
   "id": "f5cbd525-35b0-467b-bbee-c48bae93aa7f",
   "metadata": {},
   "outputs": [
    {
     "name": "stdout",
     "output_type": "stream",
     "text": [
      "\n",
      "     ____27___\n",
      "    /         \\\n",
      "  _14         _35\n",
      " /   \\       /   \\\n",
      "10    19    31    42\n",
      "\n",
      "Inorder   : [Node(10), Node(14), Node(19), Node(27), Node(31), Node(35), Node(42)]\n",
      "Preorder  : [Node(27), Node(14), Node(10), Node(19), Node(35), Node(31), Node(42)]\n",
      "PostOrder : [Node(10), Node(19), Node(14), Node(31), Node(42), Node(35), Node(27)]\n",
      "LevelOrder: [Node(27), Node(14), Node(35), Node(10), Node(19), Node(31), Node(42)]\n"
     ]
    }
   ],
   "source": [
    "from binarytree import Node\n",
    "\n",
    "btroot = Node(27)\n",
    "btroot.left = Node(14)\n",
    "btroot.right = Node(35)\n",
    "btroot.left.left = Node(10)\n",
    "btroot.left.right = Node(19)\n",
    "btroot.right.left = Node(31)\n",
    "btroot.right.right = Node(42)\n",
    "\n",
    "print(btroot)\n",
    "print('Inorder   :', btroot.inorder)\n",
    "print('Preorder  :', btroot.preorder)\n",
    "print('PostOrder :', btroot.postorder) \n",
    "print('LevelOrder:', btroot.levelorder) "
   ]
  }
 ],
 "metadata": {
  "kernelspec": {
   "display_name": "Python 3 (ipykernel)",
   "language": "python",
   "name": "python3"
  },
  "language_info": {
   "codemirror_mode": {
    "name": "ipython",
    "version": 3
   },
   "file_extension": ".py",
   "mimetype": "text/x-python",
   "name": "python",
   "nbconvert_exporter": "python",
   "pygments_lexer": "ipython3",
   "version": "3.9.2"
  }
 },
 "nbformat": 4,
 "nbformat_minor": 5
}
