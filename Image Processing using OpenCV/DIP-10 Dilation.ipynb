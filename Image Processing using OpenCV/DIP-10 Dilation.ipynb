{
 "cells": [
  {
   "cell_type": "code",
   "execution_count": 6,
   "id": "7504c9c0",
   "metadata": {},
   "outputs": [
    {
     "data": {
      "image/png": "[encoded data removed]",
      "text/plain": [
       "<Figure size 432x288 with 1 Axes>"
      ]
     },
     "metadata": {
      "needs_background": "light"
     },
     "output_type": "display_data"
    },
    {
     "data": {
      "image/png": "[encoded data removed]",
      "text/plain": [
       "<Figure size 432x288 with 1 Axes>"
      ]
     },
     "metadata": {
      "needs_background": "light"
     },
     "output_type": "display_data"
    }
   ],
   "source": [
    "import cv2\n",
    "import math\n",
    "import numpy as np\n",
    "import matplotlib.pyplot as plt\n",
    "from copy import deepcopy as dpc\n",
    "\n",
    "# stucturing element\n",
    "se = np.array([[1,1,1],\n",
    "               [1,1,1],\n",
    "               [1,1,1]])\n",
    "\n",
    "se_r = se.shape[0]\n",
    "se_c = se.shape[1]\n",
    "pad = math.floor(se_r/2)\n",
    "\n",
    "inputimg = cv2.imread('images/moon.jpg')\n",
    "grayimg = cv2.cvtColor(dpc(inputimg), cv2.COLOR_BGR2GRAY)\n",
    "(treash, binaryimg) = cv2.threshold(grayimg, 100, 255, cv2.THRESH_BINARY)\n",
    "\n",
    "binaryimg = binaryimg / 255\n",
    "img_r = binaryimg.shape[0]\n",
    "img_c = binaryimg.shape[1]\n",
    "outputimg = np.zeros_like(binaryimg)\n",
    "\n",
    "# dilation\n",
    "for i in range(img_r - math.ceil(se_r/2)):\n",
    "    for j in range(img_c - math.ceil(se_c/2)):\n",
    "        some_match = False\n",
    "        for x in range(se_r):\n",
    "            for y in range(se_c):\n",
    "                if binaryimg[i+x][j+y] == se[x][y] and se[x][y] == 1:\n",
    "                    some_match = True\n",
    "                    break\n",
    "        if some_match:\n",
    "            outputimg[i+pad][j+pad] = 1\n",
    "\n",
    "plt.title('Binary image histogram')\n",
    "plt.hist(binaryimg.ravel(), 2, [0, 2])\n",
    "plt.show()\n",
    "\n",
    "plt.title('Output image histogram')\n",
    "plt.hist(outputimg.ravel(), 2, [0, 2])\n",
    "plt.show()  \n",
    "            \n",
    "cv2.imshow('Binary Image', binaryimg)\n",
    "cv2.imshow('Output image [Dilation]', outputimg)\n",
    "cv2.waitKey(0)\n",
    "cv2.destroyAllWindows()"
   ]
  }
 ],
 "metadata": {
  "kernelspec": {
   "display_name": "Python 3 (ipykernel)",
   "language": "python",
   "name": "python3"
  },
  "language_info": {
   "codemirror_mode": {
    "name": "ipython",
    "version": 3
   },
   "file_extension": ".py",
   "mimetype": "text/x-python",
   "name": "python",
   "nbconvert_exporter": "python",
   "pygments_lexer": "ipython3",
   "version": "3.10.0"
  }
 },
 "nbformat": 4,
 "nbformat_minor": 5
}
