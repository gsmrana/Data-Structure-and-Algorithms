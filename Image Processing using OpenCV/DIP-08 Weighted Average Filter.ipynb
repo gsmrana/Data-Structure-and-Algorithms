{
 "cells": [
  {
   "cell_type": "code",
   "execution_count": 2,
   "id": "e186e80d",
   "metadata": {},
   "outputs": [
    {
     "name": "stdout",
     "output_type": "stream",
     "text": [
      "filterMask: (3, 3)\n",
      "borderSize: 1\n",
      "filterSum: 20\n",
      "inputImage: (512, 512)\n",
      "borderedImage: (514, 514)\n"
     ]
    },
    {
     "data": {
      "image/png": "[encoded data removed]",
      "text/plain": [
       "<Figure size 432x288 with 1 Axes>"
      ]
     },
     "metadata": {
      "needs_background": "light"
     },
     "output_type": "display_data"
    },
    {
     "data": {
      "image/png": "[encoded data removed]",
      "text/plain": [
       "<Figure size 432x288 with 1 Axes>"
      ]
     },
     "metadata": {
      "needs_background": "light"
     },
     "output_type": "display_data"
    }
   ],
   "source": [
    "import cv2\n",
    "import math\n",
    "import numpy as np\n",
    "import matplotlib.pyplot as plt\n",
    "\n",
    "def generateImageWithBorder(inputImage: np.ndarray, borderSize: int):\n",
    "    size = inputImage.shape\n",
    "    outputImage = np.zeros((size[0] + borderSize*2, size[1] + borderSize*2), np.uint8)\n",
    "    outputImage[\n",
    "        borderSize:borderSize + size[0]-1,  #x1:x2\n",
    "        borderSize:borderSize + size[1]-1   #y1:y2\n",
    "        ] = inputImage[\n",
    "            0:size[0]-1,\n",
    "            0:size[1]-1]\n",
    "    return outputImage\n",
    "\n",
    "def weightedAverage(inputImage: np.ndarray, filterMask: np.ndarray):\n",
    "    borderSize = filterMask.shape[0] - math.ceil(filterMask.shape[0] / 2)\n",
    "    borderedImage = generateImageWithBorder(inputImage, borderSize) \n",
    "    filterSum = np.sum(filterMask)\n",
    "    outputImage = inputImage.copy()\n",
    "    \n",
    "    print('filterMask:', filterMask.shape) \n",
    "    print('borderSize:', borderSize)\n",
    "    print('filterSum:', filterSum)     \n",
    "    print('inputImage:', inputImage.shape)\n",
    "    print('borderedImage:', borderedImage.shape)\n",
    "    \n",
    "    for i in range(borderSize, borderedImage.shape[0] - borderSize):\n",
    "        for j in range(borderSize, borderedImage.shape[1] - borderSize):          \n",
    "            weightedSum = 0\n",
    "            for a in range(0, filterMask.shape[0]):\n",
    "                for b in range(0, filterMask.shape[1]):\n",
    "                    weightedSum += borderedImage[i + a - borderSize, j + b - borderSize] * filterMask[a, b]\n",
    "                    \n",
    "            pixelValue = weightedSum / filterSum\n",
    "            outputImage[i - borderSize, j - borderSize] = pixelValue\n",
    "            \n",
    "    cv2.imshow('Image with border', borderedImage)\n",
    "    return outputImage\n",
    "\n",
    "\n",
    "# filter kernel\n",
    "filterMask = np.array([[1, 2, 1],\n",
    "                       [2, 8, 2],\n",
    "                       [1, 2, 1]])\n",
    "inputimg = cv2.imread('images/lenna.png', cv2.IMREAD_GRAYSCALE)\n",
    "outputimg = weightedAverage(inputimg, filterMask)\n",
    "\n",
    "plt.title('Input image histogram')\n",
    "plt.hist(inputimg.ravel(), 256, [0, 256])\n",
    "plt.show()\n",
    "\n",
    "plt.title('Output image histogram')\n",
    "plt.hist(outputimg.ravel(), 256, [0, 256])\n",
    "plt.show()    \n",
    "\n",
    "cv2.imshow('Input image', inputimg)\n",
    "cv2.imshow('Output image [Weighted average filter]', outputimg)\n",
    "cv2.waitKey(0)\n",
    "cv2.destroyAllWindows()"
   ]
  }
 ],
 "metadata": {
  "kernelspec": {
   "display_name": "Python 3 (ipykernel)",
   "language": "python",
   "name": "python3"
  },
  "language_info": {
   "codemirror_mode": {
    "name": "ipython",
    "version": 3
   },
   "file_extension": ".py",
   "mimetype": "text/x-python",
   "name": "python",
   "nbconvert_exporter": "python",
   "pygments_lexer": "ipython3",
   "version": "3.10.0"
  }
 },
 "nbformat": 4,
 "nbformat_minor": 5
}
