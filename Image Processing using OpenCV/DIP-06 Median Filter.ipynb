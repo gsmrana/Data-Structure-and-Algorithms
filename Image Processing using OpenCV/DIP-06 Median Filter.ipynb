{
 "cells": [
  {
   "cell_type": "code",
   "execution_count": 1,
   "id": "e186e80d",
   "metadata": {},
   "outputs": [
    {
     "name": "stdin",
     "output_type": "stream",
     "text": [
      "Enter filter size (i.e: 5):  7\n"
     ]
    },
    {
     "name": "stdout",
     "output_type": "stream",
     "text": [
      "filterSize: 7x7\n",
      "borderSize: 3\n",
      "pixelsInMask: 49\n",
      "inputImage: (299, 300)\n",
      "borderedImage: (305, 306)\n"
     ]
    },
    {
     "data": {
      "image/png": "[encoded data removed]",
      "text/plain": [
       "<Figure size 432x288 with 1 Axes>"
      ]
     },
     "metadata": {
      "needs_background": "light"
     },
     "output_type": "display_data"
    },
    {
     "data": {
      "image/png": "[encoded data removed]",
      "text/plain": [
       "<Figure size 432x288 with 1 Axes>"
      ]
     },
     "metadata": {
      "needs_background": "light"
     },
     "output_type": "display_data"
    }
   ],
   "source": [
    "import cv2\n",
    "import math\n",
    "import numpy as np\n",
    "import matplotlib.pyplot as plt\n",
    "\n",
    "def generateImageWithBorder(inputImage: np.ndarray, borderSize: int):\n",
    "    size = inputImage.shape\n",
    "    outputImage = np.zeros((size[0] + borderSize*2, size[1] + borderSize*2), np.uint8)\n",
    "    outputImage[\n",
    "        borderSize:borderSize + size[0]-1,  #x1:x2\n",
    "        borderSize:borderSize + size[1]-1   #y1:y2\n",
    "        ] = inputImage[\n",
    "            0:size[0]-1,\n",
    "            0:size[1]-1]\n",
    "    return outputImage\n",
    "\n",
    "def performMedian(inputImage: np.ndarray, filterSize: int):\n",
    "    borderSize = filterSize - math.ceil(filterSize / 2)\n",
    "    pixelsInMask = filterSize * filterSize\n",
    "    middleIndex = math.floor(pixelsInMask / 2) + 1\n",
    "    outputImage = inputImage.copy()\n",
    "    borderedImage = generateImageWithBorder(inputImage, borderSize)\n",
    "    \n",
    "    print(f'filterSize: {filterSize}x{filterSize}') \n",
    "    print('borderSize:', borderSize)\n",
    "    print('pixelsInMask:', pixelsInMask)     \n",
    "    print('inputImage:', inputImage.shape)\n",
    "    print('borderedImage:', borderedImage.shape)\n",
    "    cv2.imshow('Image with border', borderedImage)\n",
    "    size = borderedImage.shape    \n",
    "\n",
    "    for i in range(borderSize, size[0] - borderSize):\n",
    "        for j in range(borderSize, size[1] - borderSize):\n",
    "            index = 0\n",
    "            pixels = [0] * pixelsInMask\n",
    "            \n",
    "            for a in range(i - borderSize, i + borderSize):\n",
    "                for b in range(j - borderSize, j + borderSize):\n",
    "                    pixels[index] = borderedImage[a, b]\n",
    "                    index = index + 1\n",
    "            pixels.sort()\n",
    "            middleValue = pixels[middleIndex]        \n",
    "            outputImage[i - borderSize, j - borderSize] = middleValue\n",
    "            \n",
    "    return outputImage\n",
    "\n",
    "filterSize = int(input('Enter filter size (i.e: 5): '))\n",
    "inputimg = cv2.imread('images/phone_pepper.png', cv2.IMREAD_GRAYSCALE)\n",
    "outputimg = performMedian(inputimg, filterSize)\n",
    "\n",
    "plt.title('Input image histogram')\n",
    "plt.hist(inputimg.ravel(), 256, [0, 256])\n",
    "plt.show()\n",
    "\n",
    "plt.title('Output image histogram')\n",
    "plt.hist(outputimg.ravel(), 256, [0, 256])\n",
    "plt.show()    \n",
    "\n",
    "cv2.imshow('Input image', inputimg)\n",
    "cv2.imshow('Output image [Median filter]', outputimg)\n",
    "cv2.waitKey(0)\n",
    "cv2.destroyAllWindows()"
   ]
  }
 ],
 "metadata": {
  "kernelspec": {
   "display_name": "Python 3 (ipykernel)",
   "language": "python",
   "name": "python3"
  },
  "language_info": {
   "codemirror_mode": {
    "name": "ipython",
    "version": 3
   },
   "file_extension": ".py",
   "mimetype": "text/x-python",
   "name": "python",
   "nbconvert_exporter": "python",
   "pygments_lexer": "ipython3",
   "version": "3.10.0"
  }
 },
 "nbformat": 4,
 "nbformat_minor": 5
}
